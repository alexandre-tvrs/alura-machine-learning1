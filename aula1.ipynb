{
 "cells": [
  {
   "cell_type": "markdown",
   "id": "8a77807f92f26ee",
   "metadata": {},
   "source": [
    "# Machine Learining 1"
   ]
  },
  {
   "cell_type": "code",
   "execution_count": 1,
   "id": "7df9140457caed5e",
   "metadata": {
    "ExecuteTime": {
     "end_time": "2024-06-15T03:11:03.370067Z",
     "start_time": "2024-06-15T03:11:02.820196Z"
    }
   },
   "outputs": [],
   "source": [
    "# Import libs\n",
    "\n",
    "from sklearn.svm import LinearSVC"
   ]
  },
  {
   "cell_type": "code",
   "execution_count": 2,
   "id": "62231be8df79cbc9",
   "metadata": {
    "ExecuteTime": {
     "end_time": "2024-06-15T03:10:21.992887Z",
     "start_time": "2024-06-15T03:10:21.983370Z"
    }
   },
   "outputs": [],
   "source": [
    "# Declare variables\n",
    "\n",
    "porco1 = [0, 1, 0]\n",
    "porco2 = [0, 1, 1]\n",
    "porco3 = [1, 1, 0]\n",
    "\n",
    "cachorro1 = [0, 1, 1]\n",
    "cachorro2 = [1, 0, 1]\n",
    "cachorro3 = [1, 1, 1]\n",
    "\n",
    "treino_x = [porco1, porco2, porco3, cachorro1, cachorro2, cachorro3]\n",
    "treino_y = [1, 1, 1, 0, 0, 0]"
   ]
  },
  {
   "cell_type": "code",
   "execution_count": 3,
   "id": "2f79243602197d17",
   "metadata": {},
   "outputs": [],
   "source": [
    "model = LinearSVC()"
   ]
  },
  {
   "cell_type": "code",
   "execution_count": 4,
   "id": "1adba4b0",
   "metadata": {},
   "outputs": [
    {
     "data": {
      "text/plain": [
       "array([0])"
      ]
     },
     "execution_count": 4,
     "metadata": {},
     "output_type": "execute_result"
    }
   ],
   "source": [
    "model.fit(treino_x, treino_y)\n",
    "\n",
    "animal_misterioso = [1, 1, 1]\n",
    "model.predict([animal_misterioso])"
   ]
  },
  {
   "cell_type": "code",
   "execution_count": 5,
   "id": "4ed947f2",
   "metadata": {},
   "outputs": [],
   "source": [
    "misterio1 = [1, 1, 1]\n",
    "misterio2 = [1, 1, 0]\n",
    "misterio3 = [0, 1, 1]\n",
    "\n",
    "teste_x = [misterio1, misterio2, misterio3]"
   ]
  },
  {
   "cell_type": "code",
   "execution_count": 6,
   "id": "2f75f3c9",
   "metadata": {},
   "outputs": [],
   "source": [
    "previsao = model.predict(teste_x)"
   ]
  },
  {
   "cell_type": "code",
   "execution_count": 7,
   "id": "717e0533",
   "metadata": {},
   "outputs": [],
   "source": [
    "testes_classe = [0, 1, 1]"
   ]
  },
  {
   "cell_type": "code",
   "execution_count": 8,
   "id": "5e731424",
   "metadata": {},
   "outputs": [
    {
     "data": {
      "text/plain": [
       "array([ True,  True, False])"
      ]
     },
     "execution_count": 8,
     "metadata": {},
     "output_type": "execute_result"
    }
   ],
   "source": [
    "previsao == testes_classe"
   ]
  }
 ],
 "metadata": {
  "kernelspec": {
   "display_name": "Python 3 (ipykernel)",
   "language": "python",
   "name": "python3"
  }
 },
 "nbformat": 4,
 "nbformat_minor": 5
}
